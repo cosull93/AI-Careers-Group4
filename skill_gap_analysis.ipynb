{
  "cells": [
    {
      "cell_type": "markdown",
      "id": "f3edfe2d-77ec-4c06-a59b-3b5ff6402370",
      "metadata": {},
      "source": [
        "# Team Skill Gap Analysis\n",
        "\n",
        "Analyzing Team Member Skill Gaps and Improvement Recommendations\n",
        "\n",
        "Caroline O’Sullivan (Boston University)  \n",
        "Bhargavi Manyala (Boston University)  \n",
        "Taylor Luckenbill (Boston University)"
      ]
    },
    {
      "cell_type": "markdown",
      "id": "aa663761",
      "metadata": {},
      "source": [
        "## Analyzing Team Skill Levels"
      ]
    },
    {
      "cell_type": "code",
      "execution_count": 4,
      "id": "89ed4625",
      "metadata": {},
      "outputs": [
        {
          "data": {
            "text/html": [
              "<div>\n",
              "<style scoped>\n",
              "    .dataframe tbody tr th:only-of-type {\n",
              "        vertical-align: middle;\n",
              "    }\n",
              "\n",
              "    .dataframe tbody tr th {\n",
              "        vertical-align: top;\n",
              "    }\n",
              "\n",
              "    .dataframe thead th {\n",
              "        text-align: right;\n",
              "    }\n",
              "</style>\n",
              "<table border=\"1\" class=\"dataframe\">\n",
              "  <thead>\n",
              "    <tr style=\"text-align: right;\">\n",
              "      <th></th>\n",
              "      <th>Python</th>\n",
              "      <th>SQL</th>\n",
              "      <th>Machine Learning</th>\n",
              "      <th>Cloud Computing</th>\n",
              "    </tr>\n",
              "    <tr>\n",
              "      <th>Name</th>\n",
              "      <th></th>\n",
              "      <th></th>\n",
              "      <th></th>\n",
              "      <th></th>\n",
              "    </tr>\n",
              "  </thead>\n",
              "  <tbody>\n",
              "    <tr>\n",
              "      <th>Caroline</th>\n",
              "      <td>3</td>\n",
              "      <td>3</td>\n",
              "      <td>2</td>\n",
              "      <td>2</td>\n",
              "    </tr>\n",
              "    <tr>\n",
              "      <th>Bhargavi</th>\n",
              "      <td>3</td>\n",
              "      <td>3</td>\n",
              "      <td>3</td>\n",
              "      <td>2</td>\n",
              "    </tr>\n",
              "    <tr>\n",
              "      <th>Taylor</th>\n",
              "      <td>3</td>\n",
              "      <td>3</td>\n",
              "      <td>3</td>\n",
              "      <td>1</td>\n",
              "    </tr>\n",
              "  </tbody>\n",
              "</table>\n",
              "</div>"
            ],
            "text/plain": [
              "          Python  SQL  Machine Learning  Cloud Computing\n",
              "Name                                                    \n",
              "Caroline       3    3                 2                2\n",
              "Bhargavi       3    3                 3                2\n",
              "Taylor         3    3                 3                1"
            ]
          },
          "execution_count": 4,
          "metadata": {},
          "output_type": "execute_result"
        }
      ],
      "source": [
        "import pandas as pd\n",
        "\n",
        "skills_data = {\n",
        "    \"Name\": [\"Caroline\", \"Bhargavi\", \"Taylor\"],\n",
        "    \"Python\": [3, 3, 3],\n",
        "    \"SQL\": [3, 3, 3],\n",
        "    \"Machine Learning\": [2, 3, 3],\n",
        "    \"Cloud Computing\": [2, 2, 1]\n",
        "}\n",
        "\n",
        "df_skills = pd.DataFrame(skills_data)\n",
        "df_skills.set_index(\"Name\", inplace=True)\n",
        "df_skills"
      ]
    },
    {
      "cell_type": "code",
      "execution_count": 5,
      "id": "d62eb91b",
      "metadata": {},
      "outputs": [
        {
          "data": {
            "image/png": "[encoded data removed]",
            "text/plain": [
              "<Figure size 800x600 with 2 Axes>"
            ]
          },
          "metadata": {},
          "output_type": "display_data"
        }
      ],
      "source": [
        "#Visualize Skill Levels\n",
        "import seaborn as sns\n",
        "import matplotlib.pyplot as plt\n",
        "\n",
        "plt.figure(figsize=(8, 6))\n",
        "sns.heatmap(df_skills, annot=True, cmap=\"coolwarm\", linewidths=0.5)\n",
        "plt.title(\"Team Skill Levels Heatmap\")\n",
        "plt.savefig(\"team_skills_heatmap.png\")\n",
        "plt.show()"
      ]
    },
    {
      "cell_type": "markdown",
      "id": "cc71d5a6",
      "metadata": {},
      "source": [
        " # Compare team skills to Industry Requirements"
      ]
    },
    {
      "cell_type": "markdown",
      "id": "876a8dea",
      "metadata": {},
      "source": [
        "## Data Cleaning\n"
      ]
    },
    {
      "cell_type": "code",
      "execution_count": 6,
      "id": "5b0662a8",
      "metadata": {},
      "outputs": [
        {
          "name": "stderr",
          "output_type": "stream",
          "text": [
            "25/10/10 16:00:03 WARN SparkStringUtils: Truncated the string representation of a plan since it was too large. This behavior can be adjusted by setting 'spark.sql.debug.maxToStringFields'.\n",
            "                                                                                \r"
          ]
        }
      ],
      "source": [
        "\n",
        "from pyspark.sql import SparkSession\n",
        "import pandas as pd\n",
        "from collections import Counter\n",
        "import seaborn as sns\n",
        "import matplotlib.pyplot as plt\n",
        "\n",
        "\n",
        "\n",
        "spark = SparkSession.builder \\\n",
        "    .appName(\"JobPostingsAnalysis\") \\\n",
        "    .getOrCreate()\n",
        "\n",
        "file_path = \"lightcast_job_postings.csv\"\n",
        "\n",
        "df = spark.read \\\n",
        "    .option(\"header\", \"true\") \\\n",
        "    .option(\"inferSchema\", \"true\") \\\n",
        "    .option(\"multiLine\", \"true\") \\\n",
        "    .option(\"escape\", \"\\\"\") \\\n",
        "    .csv(file_path)\n",
        "\n",
        "## Data Cleaning(Numeric Columns)\n",
        "numeric_cols = [\n",
        "    \"DURATION\", \"COMPANY\", \"MIN_YEARS_EXPERIENCE\", \"MAX_YEARS_EXPERIENCE\",\n",
        "    \"SALARY\", \"SALARY_TO\", \"SALARY_FROM\", \"MSA\",\n",
        "    \"LOT_CAREER_AREA\", \"LOT_OCCUPATION\", \"LOT_SPECIALIZED_OCCUPATION\",\n",
        "    \"LOT_OCCUPATION_GROUP\", \"NAICS_2022_2\", \"NAICS_2022_3\",\n",
        "    \"NAICS_2022_4\", \"NAICS_2022_5\", \"NAICS_2022_6\"\n",
        "]\n",
        "\n",
        "pandas_num = df.select(numeric_cols).toPandas()\n",
        "\n",
        "pandas_num[numeric_cols] = pandas_num[numeric_cols].fillna(\n",
        "    pandas_num[numeric_cols].median(numeric_only=True)\n",
        ")\n",
        "\n",
        "## Data Cleaning(Categorical Columns)\n",
        "categorical_cols = [\n",
        "    \"COMPANY_NAME\", \"EDUCATION_LEVELS_NAME\",\n",
        "    \"MIN_EDULEVELS_NAME\", \"MAX_EDULEVELS_NAME\", \"EMPLOYMENT_TYPE_NAME\",\n",
        "    \"REMOTE_TYPE_NAME\", \"ORIGINAL_PAY_PERIOD\", \"LOCATION\", \"CITY_NAME\",\n",
        "    \"COUNTY_NAME\", \"MSA_NAME\", \"STATE_NAME\", \"TITLE_CLEAN\",\n",
        "    \"SOC_2021_2\", \"SOC_2021_2_NAME\", \"SOC_2021_3\", \"SOC_2021_3_NAME\",\n",
        "    \"SOC_2021_4\", \"SOC_2021_4_NAME\", \"SOC_2021_5\", \"SOC_2021_5_NAME\",\n",
        "    \"LOT_CAREER_AREA_NAME\", \"LOT_OCCUPATION_NAME\",\n",
        "    \"LOT_SPECIALIZED_OCCUPATION_NAME\", \"LOT_OCCUPATION_GROUP_NAME\",\n",
        "    \"NAICS_2022_2_NAME\", \"NAICS_2022_3_NAME\", \"NAICS_2022_4_NAME\",\n",
        "    \"NAICS_2022_5_NAME\", \"NAICS_2022_6_NAME\",\"SPECIALIZED_SKILLS_NAME\",\"CERTIFICATIONS_NAME\",\"COMMON_SKILLS_NAME\",\"SOFTWARE_SKILLS_NAME\"\n",
        "]\n",
        "\n",
        "pandas_cat = df.select(categorical_cols).toPandas()\n",
        "pandas_cat[categorical_cols] = pandas_cat[categorical_cols].fillna(\"Unknown\")\n",
        "\n",
        "## Data Cleaning(Date Column)\n",
        "date_cols = [\"POSTED\", \"EXPIRED\"]\n",
        "pandas_date = df.select(date_cols).toPandas()\n",
        "\n",
        "for col in date_cols:\n",
        "    pandas_date[col] = pd.to_datetime(pandas_date[col], errors=\"coerce\")\n",
        "    pandas_date[col] = pandas_date[col].fillna(pandas_date[col].mode()[0])\n",
        "\n",
        "pandas_handled_missing_values = pd.concat([pandas_num, pandas_cat, pandas_date], axis=1)\n",
        "\n",
        "\n",
        "pandas_cleaned = pandas_handled_missing_values.drop_duplicates(\n",
        "    subset=[\"TITLE_CLEAN\", \"COMPANY_NAME\", \"LOCATION\",\"POSTED\"],\n",
        "    keep=\"first\"\n",
        ")\n",
        "\n",
        "\n"
      ]
    },
    {
      "cell_type": "markdown",
      "id": "ba168024",
      "metadata": {},
      "source": [
        "## IT Skill Demand and Team Gap Analysis"
      ]
    },
    {
      "cell_type": "code",
      "execution_count": 7,
      "id": "2f11e99e",
      "metadata": {},
      "outputs": [
        {
          "name": "stdout",
          "output_type": "stream",
          "text": [
            " Most in-demand IT skills from job postings:\n",
            "SQL appears in 7498 IT job postings\n",
            "Python appears in 4036 IT job postings\n",
            "Machine Learning appears in 1578 IT job postings\n",
            "Cloud Computing appears in 935 IT job postings\n"
          ]
        },
        {
          "data": {
            "text/html": [
              "<div>\n",
              "<style scoped>\n",
              "    .dataframe tbody tr th:only-of-type {\n",
              "        vertical-align: middle;\n",
              "    }\n",
              "\n",
              "    .dataframe tbody tr th {\n",
              "        vertical-align: top;\n",
              "    }\n",
              "\n",
              "    .dataframe thead th {\n",
              "        text-align: right;\n",
              "    }\n",
              "</style>\n",
              "<table border=\"1\" class=\"dataframe\">\n",
              "  <thead>\n",
              "    <tr style=\"text-align: right;\">\n",
              "      <th></th>\n",
              "      <th>Python</th>\n",
              "      <th>SQL</th>\n",
              "      <th>Machine Learning</th>\n",
              "      <th>Cloud Computing</th>\n",
              "    </tr>\n",
              "    <tr>\n",
              "      <th>Name</th>\n",
              "      <th></th>\n",
              "      <th></th>\n",
              "      <th></th>\n",
              "      <th></th>\n",
              "    </tr>\n",
              "  </thead>\n",
              "  <tbody>\n",
              "    <tr>\n",
              "      <th>Caroline</th>\n",
              "      <td>3</td>\n",
              "      <td>3</td>\n",
              "      <td>2</td>\n",
              "      <td>2</td>\n",
              "    </tr>\n",
              "    <tr>\n",
              "      <th>Bhargavi</th>\n",
              "      <td>3</td>\n",
              "      <td>3</td>\n",
              "      <td>3</td>\n",
              "      <td>2</td>\n",
              "    </tr>\n",
              "    <tr>\n",
              "      <th>Taylor</th>\n",
              "      <td>3</td>\n",
              "      <td>3</td>\n",
              "      <td>3</td>\n",
              "      <td>1</td>\n",
              "    </tr>\n",
              "  </tbody>\n",
              "</table>\n",
              "</div>"
            ],
            "text/plain": [
              "          Python  SQL  Machine Learning  Cloud Computing\n",
              "Name                                                    \n",
              "Caroline       3    3                 2                2\n",
              "Bhargavi       3    3                 3                2\n",
              "Taylor         3    3                 3                1"
            ]
          },
          "execution_count": 7,
          "metadata": {},
          "output_type": "execute_result"
        }
      ],
      "source": [
        "it_jobs = pandas_cleaned[\n",
        "    (pandas_cleaned[\"NAICS_2022_2_NAME\"] == \"Information\") |\n",
        "    (pandas_cleaned[\"NAICS_2022_2_NAME\"] == \"Professional, Scientific, and Technical Services\")\n",
        "][[\"NAICS_2022_2_NAME\", \"SPECIALIZED_SKILLS_NAME\"]].copy()\n",
        "\n",
        "it_jobs[\"SPECIALIZED_SKILLS_NAME\"] = it_jobs[\"SPECIALIZED_SKILLS_NAME\"].astype(str)\n",
        "it_jobs[\"SPECIALIZED_SKILLS_NAME\"] = it_jobs[\"SPECIALIZED_SKILLS_NAME\"].str.replace(\"\\n\", \" \")\n",
        "it_jobs[\"SPECIALIZED_SKILLS_NAME\"] = it_jobs[\"SPECIALIZED_SKILLS_NAME\"].str.strip()\n",
        "\n",
        "\n",
        "top_skills = [\"Python\", \"SQL\", \"Machine Learning\", \"Cloud Computing\"]\n",
        "\n",
        "job_skill_counts = Counter()\n",
        "\n",
        "for skill in top_skills:\n",
        "    count = it_jobs[\"SPECIALIZED_SKILLS_NAME\"].str.contains(skill, case=False).sum()\n",
        "    job_skill_counts[skill] = count\n",
        "\n",
        "print(\" Most in-demand IT skills from job postings:\")\n",
        "\n",
        "for skill, count in job_skill_counts.most_common():\n",
        "    print(f\"{skill} appears in {count} IT job postings\")\n",
        "\n",
        "for skill in top_skills:\n",
        "    if skill not in df_skills.columns:\n",
        "        df_skills[skill] = 0  \n",
        "\n",
        "df_skills"
      ]
    },
    {
      "cell_type": "code",
      "execution_count": 8,
      "id": "317c73c1",
      "metadata": {},
      "outputs": [
        {
          "data": {
            "image/png": "[encoded data removed]",
            "text/plain": [
              "<Figure size 800x600 with 2 Axes>"
            ]
          },
          "metadata": {},
          "output_type": "display_data"
        }
      ],
      "source": [
        "import seaborn as sns\n",
        "import matplotlib.pyplot as plt\n",
        "\n",
        "comparison_df = pd.DataFrame({\n",
        "    \"Skill\": top_skills,\n",
        "    \"Job_Demand\": [job_skill_counts[s] for s in top_skills],\n",
        "    \"Team_Skill\": [df_skills[s].mean() for s in top_skills]\n",
        "})\n",
        "\n",
        "\n",
        "comparison_df[\"Gap_Index\"] = comparison_df[\"Team_Skill\"] / comparison_df[\"Job_Demand\"]\n",
        "\n",
        "\n",
        "plt.figure(figsize=(8,6))\n",
        "sns.heatmap(comparison_df.set_index(\"Skill\")[[\"Gap_Index\"]], \n",
        "            annot=True, cmap=\"coolwarm\", fmt=\".4f\", linewidths=0.5)\n",
        "\n",
        "plt.title(\"Skill Gap Index\")\n",
        "plt.ylabel(\"Skill\")\n",
        "plt.savefig(\"Skill_GapIndex_heatmap.png\")\n",
        "plt.show()\n"
      ]
    },
    {
      "cell_type": "markdown",
      "id": "3f317719",
      "metadata": {},
      "source": [
        "## Which Skills Should Each Team Member Prioritize Learning?\n",
        "\n",
        "Based on the analysis above, all three team members should prioritize Cloud Computing in order to improve upon their beginner levels.  There are several ways that each team member can achieve this.  The most accessible option is enrolling in online courses.  For Cloud Computing, both Coursera and Codeacademy offer foundational courses on this topic, ranging from AWS specifically to platform agnostic overviews.  To improve upon Machine Learning skills, team members can leverage online courses hosted on Udemy or Coursera.  Both of these topics are taught through more formal avenues like certificate programs through universities, such as Stanford's Machine Learning Course.\n",
        "\n",
        "All members are rated as average in Python and SQL, but there is always room for improvement. This area is an opportunity for collaboration, as members can bring different skills to the table and help troubleshoot each other's code.  To formally improve upon skills, they can utilize online courses on Coursera, Codeacademy, or Data Camp. In many cities, there are in person class options as well.  For example, General Assembly offers a variety of coding classes locally in NYC.  Each team member should choose the most convenient method to continue learning and improve upon their skillset in order to be competitive in the job market."
      ]
    }
  ],
  "metadata": {
    "kernelspec": {
      "display_name": ".venv",
      "language": "python",
      "name": "python3"
    },
    "language_info": {
      "codemirror_mode": {
        "name": "ipython",
        "version": 3
      },
      "file_extension": ".py",
      "mimetype": "text/x-python",
      "name": "python",
      "nbconvert_exporter": "python",
      "pygments_lexer": "ipython3",
      "version": "3.12.3"
    }
  },
  "nbformat": 4,
  "nbformat_minor": 5
}
