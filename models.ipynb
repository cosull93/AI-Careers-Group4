{
 "cells": [
  {
   "cell_type": "markdown",
   "id": "a436d104",
   "metadata": {},
   "source": [
    "# Regression, Classification, and Topic Insights"
   ]
  },
  {
   "cell_type": "markdown",
   "id": "0b34009d",
   "metadata": {},
   "source": [
    "# Load Dataset"
   ]
  },
  {
   "cell_type": "code",
   "execution_count": 1,
   "id": "5de82860",
   "metadata": {},
   "outputs": [
    {
     "name": "stderr",
     "output_type": "stream",
     "text": [
      "Setting default log level to \"WARN\".\n",
      "To adjust logging level use sc.setLogLevel(newLevel). For SparkR, use setLogLevel(newLevel).\n",
      "25/10/15 23:47:39 WARN NativeCodeLoader: Unable to load native-hadoop library for your platform... using builtin-java classes where applicable\n",
      "                                                                                \r"
     ]
    }
   ],
   "source": [
    "\n",
    "from pyspark.sql import SparkSession\n",
    "import pandas as pd\n",
    "from collections import Counter\n",
    "import seaborn as sns\n",
    "import matplotlib.pyplot as plt\n",
    "\n",
    "\n",
    "\n",
    "spark = SparkSession.builder \\\n",
    "    .appName(\"JobPostingsAnalysis\") \\\n",
    "    .getOrCreate()\n",
    "\n",
    "file_path = \"lightcast_job_postings.csv\"\n",
    "\n",
    "df = spark.read \\\n",
    "    .option(\"header\", \"true\") \\\n",
    "    .option(\"inferSchema\", \"true\") \\\n",
    "    .option(\"multiLine\", \"true\") \\\n",
    "    .option(\"escape\", \"\\\"\") \\\n",
    "    .csv(file_path)\n",
    "#df.show(5)\n",
    "\n"
   ]
  },
  {
   "cell_type": "markdown",
   "id": "e31bc460",
   "metadata": {},
   "source": [
    "# Multiple Linear Regression"
   ]
  },
  {
   "cell_type": "code",
   "execution_count": 2,
   "id": "96e78f20",
   "metadata": {},
   "outputs": [
    {
     "name": "stderr",
     "output_type": "stream",
     "text": [
      "                                                                                \r"
     ]
    },
    {
     "name": "stdout",
     "output_type": "stream",
     "text": [
      "+--------------------+--------------------+----------------------------------+----------+\n",
      "|         TITLE_CLEAN|           TITLE_RAW|LOT_V6_SPECIALIZED_OCCUPATION_NAME|IS_AI_ROLE|\n",
      "+--------------------+--------------------+----------------------------------+----------+\n",
      "|sr bi analyst dat...|Sr BI Analyst/Dat...|                      Data Analyst|         1|\n",
      "|ai ml governance ...|AI/ML Governance ...|                      Data Analyst|         1|\n",
      "|data engineering ...|Data Engineering ...|                      Data Analyst|         1|\n",
      "|data engineering ...|Data Engineering ...|                      Data Analyst|         1|\n",
      "|data engineering ...|Data Engineering ...|                      Data Analyst|         1|\n",
      "+--------------------+--------------------+----------------------------------+----------+\n",
      "only showing top 5 rows\n",
      "\n"
     ]
    }
   ],
   "source": [
    "from pyspark.sql.functions import col, lower, when\n",
    "\n",
    "# Create AI Role flag \n",
    "df = df.withColumn(\n",
    "    \"IS_AI_ROLE\",\n",
    "    when(\n",
    "        # Specific AI/ML terms (these are safe)\n",
    "        lower(col(\"TITLE_CLEAN\")).rlike(r'\\b(machine learning|deep learning|artificial intelligence|generative ai|neural network|computer vision|data scientist)\\b') |\n",
    "        lower(col(\"TITLE_RAW\")).rlike(r'\\b(machine learning|deep learning|artificial intelligence|generative ai|neural network|computer vision|data scientist)\\b') |\n",
    "        lower(col(\"LOT_V6_SPECIALIZED_OCCUPATION_NAME\")).rlike(r'\\b(machine learning|deep learning|artificial intelligence|generative ai|neural network|computer vision|data scientist)\\b') |\n",
    "        \n",
    "        # AI as a standalone word (with spaces or punctuation around it)\n",
    "        lower(col(\"TITLE_CLEAN\")).rlike(r'(\\s|^)ai(\\s|$|/|-)') |\n",
    "        lower(col(\"TITLE_RAW\")).rlike(r'(\\s|^)ai(\\s|$|/|-)') |\n",
    "        lower(col(\"LOT_V6_SPECIALIZED_OCCUPATION_NAME\")).rlike(r'(\\s|^)ai(\\s|$|/|-)') |\n",
    "        \n",
    "        # ML Engineer/Scientist variants\n",
    "        lower(col(\"TITLE_CLEAN\")).rlike(r'\\bml\\s+(engineer|scientist|developer|analyst)\\b') |\n",
    "        lower(col(\"TITLE_RAW\")).rlike(r'\\bml\\s+(engineer|scientist|developer|analyst)\\b') |\n",
    "        \n",
    "        # NLP specifically\n",
    "        lower(col(\"TITLE_CLEAN\")).rlike(r'\\bnlp\\b') |\n",
    "        lower(col(\"TITLE_RAW\")).rlike(r'\\bnlp\\b'),\n",
    "        1\n",
    "    ).otherwise(0)\n",
    ")\n",
    "\n",
    "\n",
    "df.select(\n",
    "    \"TITLE_CLEAN\",\n",
    "    \"TITLE_RAW\",\n",
    "    \"LOT_V6_SPECIALIZED_OCCUPATION_NAME\",\n",
    "    \"IS_AI_ROLE\"\n",
    ").orderBy(col(\"IS_AI_ROLE\").desc()) \\\n",
    " .show(5)\n",
    "\n",
    "\n"
   ]
  },
  {
   "cell_type": "code",
   "execution_count": 3,
   "id": "6f4d3fd3",
   "metadata": {},
   "outputs": [
    {
     "name": "stderr",
     "output_type": "stream",
     "text": [
      "                                                                                \r"
     ]
    }
   ],
   "source": [
    "# Missing Value Treatment\n",
    "from pyspark.sql import Window\n",
    "from pyspark.sql.functions import col, when, isnan, count, expr, median\n",
    "from pyspark.sql import functions as F\n",
    "\n",
    "# Calculate overall median salary\n",
    "overall_median_salarly = df.approxQuantile(\"SALARY\", [0.5], 0.01)[0]\n",
    "\n",
    "median_by_employment_type = df.groupBy(\"EMPLOYMENT_TYPE\").agg(expr(\"percentile_approx(SALARY, 0.5)\").alias(\"median_salary_emp_type\"))\n",
    "median_by_employment_type_name = df.groupBy(\"EMPLOYMENT_TYPE_NAME\").agg(expr(\"percentile_approx(SALARY, 0.5)\").alias(\"median_salary_emp_type_name\"))\n",
    "\n",
    "# Join median values back to the original dataframe\n",
    "df_salary_imputed = df.join(median_by_employment_type, on=\"EMPLOYMENT_TYPE\", how = \"left\").join(median_by_employment_type_name, on=\"EMPLOYMENT_TYPE_NAME\", how = \"left\")\n",
    "\n",
    "\n",
    "# Replace missing SALARY values\n",
    "df_salary_imputed=df_salary_imputed.withColumn(\"SALARY\", when(col(\"SALARY\").isNull(), \n",
    "                                when (col(\"median_salary_emp_type\").isNotNull(), col(\"median_salary_emp_type\"))\n",
    "                                .when(col(\"median_salary_emp_type_name\").isNotNull(), col(\"median_salary_emp_type_name\"))\n",
    "                                .otherwise(overall_median_salarly)\n",
    ").otherwise(col(\"SALARY\"))) "
   ]
  },
  {
   "cell_type": "code",
   "execution_count": 4,
   "id": "e963fcf2",
   "metadata": {},
   "outputs": [
    {
     "name": "stderr",
     "output_type": "stream",
     "text": [
      "                                                                                \r"
     ]
    }
   ],
   "source": [
    "from pyspark.sql.functions import col, when, trim, regexp_replace, coalesce, lit\n",
    "from pyspark.sql.types import IntegerType\n",
    "from pyspark.ml.feature import StringIndexer, OneHotEncoder, VectorAssembler\n",
    "from pyspark.ml import Pipeline\n",
    "\n",
    "regression_df = df_salary_imputed.dropna(subset=[\"SALARY\"])\n",
    "\n",
    "# Impute numeric columns with median values\n",
    "for c in [\"MIN_YEARS_EXPERIENCE\", \"MAX_YEARS_EXPERIENCE\", \"DURATION\"]:\n",
    "    med = df_salary_imputed.approxQuantile(c, [0.5], 0.01)[0]\n",
    "    if med is not None:\n",
    "        regression_df = regression_df.na.fill({c: med})\n",
    "\n",
    "# Cast duration to integer \n",
    "regression_df = regression_df.withColumn(\"DURATION\", col(\"DURATION\").cast(IntegerType()))\n",
    "\n",
    "# Cast boolean columns to integers (0/1)\n",
    "regression_df = regression_df.withColumn(\n",
    "    \"IS_INTERNSHIP\", coalesce(col(\"IS_INTERNSHIP\").cast(IntegerType()), lit(0))\n",
    ")\n",
    "regression_df = regression_df.withColumn(\n",
    "    \"COMPANY_IS_STAFFING\", coalesce(col(\"COMPANY_IS_STAFFING\").cast(IntegerType()), lit(0))\n",
    ")\n"
   ]
  },
  {
   "cell_type": "code",
   "execution_count": 5,
   "id": "be6f589a",
   "metadata": {},
   "outputs": [
    {
     "name": "stderr",
     "output_type": "stream",
     "text": [
      "                                                                                \r"
     ]
    },
    {
     "name": "stdout",
     "output_type": "stream",
     "text": [
      "+--------+--------------------+--------------------+---------------------+--------------------+----------------+--------+-------------+-------------------+----------+\n",
      "|SALARY  |MIN_YEARS_EXPERIENCE|MAX_YEARS_EXPERIENCE|EDUCATION_LEVELS_NAME|EMPLOYMENT_TYPE_NAME|REMOTE_TYPE_NAME|DURATION|IS_INTERNSHIP|COMPANY_IS_STAFFING|IS_AI_ROLE|\n",
      "+--------+--------------------+--------------------+---------------------+--------------------+----------------+--------+-------------+-------------------+----------+\n",
      "|116500.0|2                   |2                   |Bachelor's degree    |Fulltime            |Undefined       |6       |0            |0                  |0         |\n",
      "|116500.0|3                   |3                   |No Education Listed  |Fulltime            |Remote          |18      |0            |1                  |0         |\n",
      "|116500.0|5                   |3                   |Bachelor's degree    |Fulltime            |Undefined       |35      |0            |0                  |0         |\n",
      "|116500.0|3                   |3                   |No Education Listed  |Fulltime            |Undefined       |48      |0            |0                  |0         |\n",
      "|92500.0 |5                   |3                   |No Education Listed  |Flexible            |Undefined       |15      |0            |0                  |0         |\n",
      "+--------+--------------------+--------------------+---------------------+--------------------+----------------+--------+-------------+-------------------+----------+\n",
      "only showing top 5 rows\n",
      "\n"
     ]
    }
   ],
   "source": [
    "# Clean Remote Type Name\n",
    "regression_df = regression_df.withColumn(\n",
    "    \"REMOTE_TYPE_NAME\",\n",
    "    when(col(\"REMOTE_TYPE_NAME\") == \"Remote\", \"Remote\")\n",
    "    .when(col(\"REMOTE_TYPE_NAME\") == \"[None]\", \"Undefined\")\n",
    "    .when(col(\"REMOTE_TYPE_NAME\") == \"Not Remote\", \"On Premise\")\n",
    "    .when(col(\"REMOTE_TYPE_NAME\") == \"Hybrid Remote\", \"Hybrid\")\n",
    "    .when(col(\"REMOTE_TYPE_NAME\").isNull(), \"On Premise\")\n",
    "    .otherwise(col(\"REMOTE_TYPE_NAME\"))\n",
    ")\n",
    "\n",
    "# Clean Employment Type Name\n",
    "regression_df = regression_df.withColumn(\n",
    "    \"EMPLOYMENT_TYPE_NAME\",\n",
    "    when(col(\"EMPLOYMENT_TYPE_NAME\") == \"Part-time / full-time\", \"Flexible\")\n",
    "    .when(col(\"EMPLOYMENT_TYPE_NAME\") == \"Part-time (â‰¤ 32 hours)\", \"Parttime\")\n",
    "    .when(col(\"EMPLOYMENT_TYPE_NAME\") == \"Full-time (> 32 hours)\", \"Fulltime\")\n",
    "    .when(col(\"EMPLOYMENT_TYPE_NAME\").isNull(), \"Fulltime\")\n",
    "    .otherwise(col(\"EMPLOYMENT_TYPE_NAME\"))\n",
    ")\n",
    "\n",
    "# Clean Education Levels\n",
    "regression_df = regression_df.withColumn(\n",
    "    \"EDUCATION_LEVELS_NAME\",\n",
    "    trim(regexp_replace(col(\"EDUCATION_LEVELS_NAME\"), r\"[\\[\\]\\n\\\"]\", \"\"))\n",
    ")\n",
    "regression_df = regression_df.fillna({\"EDUCATION_LEVELS_NAME\": \"No Education Listed\"})\n",
    "\n",
    "regression_df = regression_df.select(\n",
    "    \"SALARY\", \"MIN_YEARS_EXPERIENCE\", \"MAX_YEARS_EXPERIENCE\",\n",
    "    \"EDUCATION_LEVELS_NAME\", \"EMPLOYMENT_TYPE_NAME\", \"REMOTE_TYPE_NAME\",\n",
    "    \"DURATION\", \"IS_INTERNSHIP\", \"COMPANY_IS_STAFFING\", \"IS_AI_ROLE\"\n",
    ")\n",
    "\n",
    "regression_df.show(5, truncate=False)\n"
   ]
  },
  {
   "cell_type": "code",
   "execution_count": 6,
   "id": "ef33c874",
   "metadata": {},
   "outputs": [
    {
     "name": "stderr",
     "output_type": "stream",
     "text": [
      "                                                                                \r"
     ]
    }
   ],
   "source": [
    "ai_df = regression_df.filter(col(\"IS_AI_ROLE\") == 1)\n",
    "non_ai_df = regression_df.filter(col(\"IS_AI_ROLE\") == 0)\n",
    "\n",
    "if ai_df.count() > 0:\n",
    "    ratio = non_ai_df.count() / ai_df.count()\n",
    "    ai_df_balanced = ai_df.sample(withReplacement=True, fraction=ratio, seed=42)\n",
    "    regression_df = non_ai_df.union(ai_df_balanced)\n"
   ]
  },
  {
   "cell_type": "code",
   "execution_count": 15,
   "id": "03cd19de",
   "metadata": {},
   "outputs": [
    {
     "name": "stderr",
     "output_type": "stream",
     "text": [
      "                                                                                \r"
     ]
    }
   ],
   "source": [
    "categorical_cols = [\"EDUCATION_LEVELS_NAME\", \"EMPLOYMENT_TYPE_NAME\",\n",
    "                    \"REMOTE_TYPE_NAME\", \"IS_INTERNSHIP\", \"COMPANY_IS_STAFFING\"]\n",
    "\n",
    "indexers = [StringIndexer(inputCol=c, outputCol=f\"{c}_idx\", handleInvalid=\"skip\") for c in categorical_cols]\n",
    "encoders = [OneHotEncoder(inputCol=f\"{c}_idx\", outputCol=f\"{c}_vec\", dropLast=True) for c in categorical_cols]\n",
    "assembler = VectorAssembler(\n",
    "    inputCols=[\"MIN_YEARS_EXPERIENCE\", \"MAX_YEARS_EXPERIENCE\", \"DURATION\", \"IS_AI_ROLE\"] +\n",
    "              [f\"{c}_vec\" for c in categorical_cols],\n",
    "    outputCol=\"features\"\n",
    ")\n",
    "\n",
    "pipeline = Pipeline(stages=indexers + encoders + [assembler])\n",
    "regression_data = pipeline.fit(regression_df).transform(regression_df)\n",
    "\n"
   ]
  },
  {
   "cell_type": "code",
   "execution_count": 16,
   "id": "130afc01",
   "metadata": {},
   "outputs": [
    {
     "name": "stderr",
     "output_type": "stream",
     "text": [
      "                                                                                \r"
     ]
    },
    {
     "name": "stdout",
     "output_type": "stream",
     "text": [
      "(143304, 21)\n"
     ]
    },
    {
     "name": "stderr",
     "output_type": "stream",
     "text": [
      "                                                                                \r"
     ]
    },
    {
     "name": "stdout",
     "output_type": "stream",
     "text": [
      "(114523, 21)\n"
     ]
    },
    {
     "name": "stderr",
     "output_type": "stream",
     "text": [
      "[Stage 354:============================>                            (1 + 1) / 2]\r"
     ]
    },
    {
     "name": "stdout",
     "output_type": "stream",
     "text": [
      "(28781, 21)\n"
     ]
    },
    {
     "name": "stderr",
     "output_type": "stream",
     "text": [
      "                                                                                \r"
     ]
    }
   ],
   "source": [
    "# Split Data\n",
    "regression_train, regression_test = regression_data.randomSplit([0.8, 0.2], seed=42)\n",
    "\n",
    "print((regression_data.count(), len(regression_data.columns)))\n",
    "print((regression_train.count(), len(regression_train.columns)))\n",
    "print((regression_test.count(), len(regression_test.columns)))"
   ]
  },
  {
   "cell_type": "code",
   "execution_count": 17,
   "id": "814f9f2b",
   "metadata": {},
   "outputs": [
    {
     "name": "stderr",
     "output_type": "stream",
     "text": [
      "25/10/16 00:07:01 WARN Instrumentation: [824826a6] regParam is zero, which might cause numerical instability and overfitting.\n",
      "                                                                                \r"
     ]
    },
    {
     "name": "stdout",
     "output_type": "stream",
     "text": [
      "\n",
      "--- Regression Summary ---\n",
      "Coefficient Standard Errors: ['32.3928', '95.9480', '7.7246', '175.9281', '7721025258.0866', '7721025258.0866', '7721025258.0866', '7721025258.0866', '7721025258.0867', '7721025258.0866', '7721025258.0867', '7721025258.0867', '7721025258.0867', '7721025258.0867', '7721025258.0868', '7721025258.0869', '7721025258.0869', '7721025258.0869', '7721025258.0869', '7721025258.0871', '7721025258.0873', '7721025258.0873', '7721025258.0877', '7721025258.0889', '7721025258.0897', '7721025258.0915', '7721025258.0921', '7721025258.0928', '7721025258.0965', '7721025258.1357', '7721025258.1357', '7721025258.1357', '774.5120', '934.6911', '508.8911', '541.3076', '670.3572', '696.2439', '262.1121', '7721025258.0864']\n",
      "T-Values: ['131.1731', '-11.7128', '1.2925', '37.1572', '0.0000', '0.0000', '0.0000', '0.0000', '0.0000', '0.0000', '0.0000', '0.0000', '0.0000', '0.0000', '0.0000', '0.0000', '0.0000', '0.0000', '0.0000', '0.0000', '0.0000', '0.0000', '0.0000', '0.0000', '0.0000', '0.0000', '0.0000', '0.0000', '0.0000', '0.0000', '0.0000', '0.0000', '1.2653', '-20.7523', '6.5882', '21.8297', '-3.2755', '13.5587', '24.2327', '-0.0000']\n",
      "P-Values: ['0.0000', '0.0000', '0.1962', '0.0000', '1.0000', '1.0000', '1.0000', '1.0000', '1.0000', '1.0000', '1.0000', '1.0000', '1.0000', '1.0000', '1.0000', '1.0000', '1.0000', '1.0000', '1.0000', '1.0000', '1.0000', '1.0000', '1.0000', '1.0000', '1.0000', '1.0000', '1.0000', '1.0000', '1.0000', '1.0000', '1.0000', '1.0000', '0.2058', '0.0000', '0.0000', '0.0000', '0.0011', '0.0000', '0.0000', '1.0000']\n"
     ]
    },
    {
     "name": "stderr",
     "output_type": "stream",
     "text": [
      "[Stage 411:>                                                        (0 + 2) / 2]\r"
     ]
    },
    {
     "name": "stdout",
     "output_type": "stream",
     "text": [
      "RMSE: 27364.34\n",
      "R²: 0.199\n",
      "MAE: 18576.90\n"
     ]
    },
    {
     "name": "stderr",
     "output_type": "stream",
     "text": [
      "                                                                                \r"
     ]
    }
   ],
   "source": [
    "from pyspark.ml.regression import LinearRegression\n",
    "from pyspark.ml.evaluation import RegressionEvaluator\n",
    "\n",
    "# Train Multiple Linear Regression Model\n",
    "lr = LinearRegression(featuresCol=\"features\", labelCol=\"SALARY\")\n",
    "lr_model = lr.fit(regression_train)\n",
    "\n",
    "summary = lr_model.summary\n",
    "\n",
    "print(\"\\n--- Regression Summary ---\")\n",
    "print(\"Coefficient Standard Errors:\", [f\"{val:.4f}\" for val in summary.coefficientStandardErrors])\n",
    "print(\"T-Values:\", [f\"{val:.4f}\" for val in summary.tValues])\n",
    "print(\"P-Values:\", [f\"{val:.4f}\" for val in summary.pValues])\n",
    "\n",
    "predictions = lr_model.transform(regression_test)\n",
    "\n",
    "# Evaluate model\n",
    "evaluator = RegressionEvaluator(labelCol=\"SALARY\", predictionCol=\"prediction\")\n",
    "rmse = evaluator.evaluate(predictions, {evaluator.metricName: \"rmse\"})\n",
    "r2 = evaluator.evaluate(predictions, {evaluator.metricName: \"r2\"})\n",
    "mae = evaluator.evaluate(predictions, {evaluator.metricName: \"mae\"})\n",
    "\n",
    "print(f\"RMSE: {rmse:.2f}\")\n",
    "print(f\"R²: {r2:.3f}\")\n",
    "print(f\"MAE: {mae:.2f}\")\n",
    "\n"
   ]
  },
  {
   "cell_type": "code",
   "execution_count": 18,
   "id": "f38a37d3",
   "metadata": {},
   "outputs": [
    {
     "name": "stderr",
     "output_type": "stream",
     "text": [
      "[Stage 418:============================>                            (1 + 1) / 2]\r"
     ]
    },
    {
     "name": "stdout",
     "output_type": "stream",
     "text": [
      "+----------+---------+------------------+--------------------+\n",
      "|IS_AI_ROLE|job_count| avg_actual_salary|avg_predicted_salary|\n",
      "+----------+---------+------------------+--------------------+\n",
      "|         0|    14495|116886.82469817178|   116540.5085203994|\n",
      "|         1|    14286|125283.93819123617|  124981.43042982712|\n",
      "+----------+---------+------------------+--------------------+\n",
      "\n"
     ]
    },
    {
     "name": "stderr",
     "output_type": "stream",
     "text": [
      "                                                                                \r"
     ]
    }
   ],
   "source": [
    "predictions.select(\"SALARY\", \"prediction\", \"IS_AI_ROLE\") \\\n",
    "    .groupBy(\"IS_AI_ROLE\") \\\n",
    "    .agg(\n",
    "        F.count(\"*\").alias(\"job_count\"),\n",
    "        F.avg(\"SALARY\").alias(\"avg_actual_salary\"),\n",
    "        F.avg(\"prediction\").alias(\"avg_predicted_salary\")\n",
    "    ).orderBy(\"IS_AI_ROLE\") \\\n",
    "    .show()"
   ]
  },
  {
   "cell_type": "markdown",
   "id": "5e4438ce",
   "metadata": {},
   "source": [
    "## Multiple Linear Regression Interpretation\n",
    "1. The Multiple Linear Regression (MLR) model achieved an RMSE of 27,364.34, an MAE of 18,576.90, and an R² of 0.199, indicating a moderate fit.\n",
    "2. Salaries for AI-related roles are higher on average ($125,283 actual, $124,981 predicted) compared to non-AI roles ($116,887 actual, $116,541 predicted), confirming that AI specialization has a positive impact on compensation. \n",
    "3. The R² value of 0.199 indicates that the model explains about 20% of the variation in salaries, reflecting moderate predictive accuracy.\n",
    "4. The t- and p-values indicate that numeric variables like experience and AI-role are statistically significant predictors, while inflated values for categorical variables result from multicollinearity due to one-hot encoding.\n"
   ]
  },
  {
   "cell_type": "markdown",
   "id": "00984c6f",
   "metadata": {},
   "source": [
    "# Random Forest Regression"
   ]
  },
  {
   "cell_type": "code",
   "execution_count": 11,
   "id": "0820921f",
   "metadata": {},
   "outputs": [
    {
     "name": "stderr",
     "output_type": "stream",
     "text": [
      "25/10/15 23:58:05 WARN DAGScheduler: Broadcasting large task binary with size 1102.7 KiB\n",
      "25/10/15 23:58:18 WARN DAGScheduler: Broadcasting large task binary with size 1880.3 KiB\n",
      "25/10/15 23:58:34 WARN DAGScheduler: Broadcasting large task binary with size 3.2 MiB\n",
      "WARNING: An illegal reflective access operation has occurred                    \n",
      "WARNING: Illegal reflective access by org.apache.spark.util.SizeEstimator$ (file:/home/ubuntu/AI-Careers-Group4/.venv/lib/python3.12/site-packages/pyspark/jars/spark-core_2.12-3.5.5.jar) to field java.nio.charset.Charset.name\n",
      "WARNING: Please consider reporting this to the maintainers of org.apache.spark.util.SizeEstimator$\n",
      "WARNING: Use --illegal-access=warn to enable warnings of further illegal reflective access operations\n",
      "WARNING: All illegal access operations will be denied in a future release\n",
      "[Stage 239:============================>                            (1 + 1) / 2]\r"
     ]
    },
    {
     "name": "stdout",
     "output_type": "stream",
     "text": [
      "RMSE: 24538.18\n",
      "R²: 0.356\n",
      "MAE: 15138.35\n"
     ]
    },
    {
     "name": "stderr",
     "output_type": "stream",
     "text": [
      "                                                                                \r"
     ]
    }
   ],
   "source": [
    "from pyspark.ml.regression import RandomForestRegressor\n",
    "from pyspark.ml.evaluation import RegressionEvaluator\n",
    "\n",
    "# Initialize Random Forest model\n",
    "rf = RandomForestRegressor(\n",
    "    featuresCol=\"features\",\n",
    "    labelCol=\"SALARY\",\n",
    "    numTrees=300,\n",
    "    maxDepth=6,\n",
    "    seed=42\n",
    ")\n",
    "\n",
    "# Train the model\n",
    "rf_model = rf.fit(regression_train)\n",
    "\n",
    "rf_predictions = rf_model.transform(regression_test)\n",
    "\n",
    "# Evaluate model performance\n",
    "evaluator = RegressionEvaluator(labelCol=\"SALARY\", predictionCol=\"prediction\")\n",
    "\n",
    "rf_rmse = evaluator.evaluate(rf_predictions, {evaluator.metricName: \"rmse\"})\n",
    "rf_r2   = evaluator.evaluate(rf_predictions, {evaluator.metricName: \"r2\"})\n",
    "rf_mae  = evaluator.evaluate(rf_predictions, {evaluator.metricName: \"mae\"})\n",
    "\n",
    "print(f\"RMSE: {rf_rmse:.2f}\")\n",
    "print(f\"R²: {rf_r2:.3f}\")\n",
    "print(f\"MAE: {rf_mae:.2f}\")\n"
   ]
  },
  {
   "cell_type": "code",
   "execution_count": 12,
   "id": "51019fe5",
   "metadata": {},
   "outputs": [
    {
     "name": "stderr",
     "output_type": "stream",
     "text": [
      "/tmp/ipykernel_1814/501214231.py:25: FutureWarning: \n",
      "\n",
      "Passing `palette` without assigning `hue` is deprecated and will be removed in v0.14.0. Assign the `y` variable to `hue` and set `legend=False` for the same effect.\n",
      "\n",
      "  sns.barplot(x=\"Importance\", y=\"Feature\", data=top10_fi, palette=\"viridis\")\n"
     ]
    },
    {
     "data": {
      "image/png": "[encoded data removed]",
      "text/plain": [
       "<Figure size 800x600 with 1 Axes>"
      ]
     },
     "metadata": {},
     "output_type": "display_data"
    },
    {
     "data": {
      "text/html": [
       "<div>\n",
       "<style scoped>\n",
       "    .dataframe tbody tr th:only-of-type {\n",
       "        vertical-align: middle;\n",
       "    }\n",
       "\n",
       "    .dataframe tbody tr th {\n",
       "        vertical-align: top;\n",
       "    }\n",
       "\n",
       "    .dataframe thead th {\n",
       "        text-align: right;\n",
       "    }\n",
       "</style>\n",
       "<table border=\"1\" class=\"dataframe\">\n",
       "  <thead>\n",
       "    <tr style=\"text-align: right;\">\n",
       "      <th></th>\n",
       "      <th>Feature</th>\n",
       "      <th>Importance</th>\n",
       "    </tr>\n",
       "  </thead>\n",
       "  <tbody>\n",
       "    <tr>\n",
       "      <th>0</th>\n",
       "      <td>MIN_YEARS_EXPERIENCE</td>\n",
       "      <td>0.455897</td>\n",
       "    </tr>\n",
       "    <tr>\n",
       "      <th>3</th>\n",
       "      <td>IS_AI_ROLE</td>\n",
       "      <td>0.101286</td>\n",
       "    </tr>\n",
       "    <tr>\n",
       "      <th>2</th>\n",
       "      <td>DURATION</td>\n",
       "      <td>0.057221</td>\n",
       "    </tr>\n",
       "    <tr>\n",
       "      <th>5</th>\n",
       "      <td>EMPLOYMENT_TYPE_NAME_vec</td>\n",
       "      <td>0.054882</td>\n",
       "    </tr>\n",
       "    <tr>\n",
       "      <th>8</th>\n",
       "      <td>COMPANY_IS_STAFFING_vec</td>\n",
       "      <td>0.032918</td>\n",
       "    </tr>\n",
       "    <tr>\n",
       "      <th>4</th>\n",
       "      <td>EDUCATION_LEVELS_NAME_vec</td>\n",
       "      <td>0.029114</td>\n",
       "    </tr>\n",
       "    <tr>\n",
       "      <th>1</th>\n",
       "      <td>MAX_YEARS_EXPERIENCE</td>\n",
       "      <td>0.026355</td>\n",
       "    </tr>\n",
       "    <tr>\n",
       "      <th>6</th>\n",
       "      <td>REMOTE_TYPE_NAME_vec</td>\n",
       "      <td>0.022659</td>\n",
       "    </tr>\n",
       "    <tr>\n",
       "      <th>7</th>\n",
       "      <td>IS_INTERNSHIP_vec</td>\n",
       "      <td>0.011788</td>\n",
       "    </tr>\n",
       "  </tbody>\n",
       "</table>\n",
       "</div>"
      ],
      "text/plain": [
       "                     Feature  Importance\n",
       "0       MIN_YEARS_EXPERIENCE    0.455897\n",
       "3                 IS_AI_ROLE    0.101286\n",
       "2                   DURATION    0.057221\n",
       "5   EMPLOYMENT_TYPE_NAME_vec    0.054882\n",
       "8    COMPANY_IS_STAFFING_vec    0.032918\n",
       "4  EDUCATION_LEVELS_NAME_vec    0.029114\n",
       "1       MAX_YEARS_EXPERIENCE    0.026355\n",
       "6       REMOTE_TYPE_NAME_vec    0.022659\n",
       "7          IS_INTERNSHIP_vec    0.011788"
      ]
     },
     "execution_count": 12,
     "metadata": {},
     "output_type": "execute_result"
    }
   ],
   "source": [
    "import pandas as pd\n",
    "import matplotlib.pyplot as plt\n",
    "import seaborn as sns\n",
    "\n",
    "\n",
    "importances = rf_model.featureImportances.toArray()\n",
    "\n",
    "feature_names = assembler.getInputCols()\n",
    "\n",
    "# Match lengths safely \n",
    "min_len = min(len(importances), len(feature_names))\n",
    "feature_names = feature_names[:min_len]\n",
    "importances = importances[:min_len]\n",
    "\n",
    "\n",
    "fi_df = pd.DataFrame({\n",
    "    \"Feature\": feature_names,\n",
    "    \"Importance\": importances\n",
    "}).sort_values(by=\"Importance\", ascending=False)\n",
    "\n",
    "top10_fi = fi_df.head(10)\n",
    "\n",
    "\n",
    "plt.figure(figsize=(8, 6))\n",
    "sns.barplot(x=\"Importance\", y=\"Feature\", data=top10_fi, palette=\"viridis\")\n",
    "plt.title(\"Top 10 Important Features from Random Forest Regressor\")\n",
    "plt.tight_layout()\n",
    "\n",
    "plt.show()\n",
    "top10_fi"
   ]
  },
  {
   "cell_type": "code",
   "execution_count": 13,
   "id": "3893385b",
   "metadata": {},
   "outputs": [
    {
     "name": "stderr",
     "output_type": "stream",
     "text": [
      "[Stage 246:============================>                            (1 + 1) / 2]\r"
     ]
    },
    {
     "name": "stdout",
     "output_type": "stream",
     "text": [
      "+----------+---------+------------------+--------------------+\n",
      "|IS_AI_ROLE|job_count| avg_actual_salary|avg_predicted_salary|\n",
      "+----------+---------+------------------+--------------------+\n",
      "|         0|    14495|116886.82469817178|  117434.54269318607|\n",
      "|         1|    14286|125283.93819123617|  124024.10018453641|\n",
      "+----------+---------+------------------+--------------------+\n",
      "\n"
     ]
    },
    {
     "name": "stderr",
     "output_type": "stream",
     "text": [
      "                                                                                \r"
     ]
    }
   ],
   "source": [
    "rf_predictions.select(\"SALARY\", \"prediction\", \"IS_AI_ROLE\") \\\n",
    "    .groupBy(\"IS_AI_ROLE\") \\\n",
    "    .agg(\n",
    "        F.count(\"*\").alias(\"job_count\"),\n",
    "        F.avg(\"SALARY\").alias(\"avg_actual_salary\"),\n",
    "        F.avg(\"prediction\").alias(\"avg_predicted_salary\")\n",
    "    ).orderBy(\"IS_AI_ROLE\") \\\n",
    "    .show()\n"
   ]
  },
  {
   "cell_type": "markdown",
   "id": "c393a93f",
   "metadata": {},
   "source": [
    "## Random Forest Regression Interpretation\n",
    "1. The Random Forest Regression model achieved an RMSE of 24,538.18, an MAE of 15,138.35, and an R² of 0.356, indicating a better fit.\n",
    "2. Feature importance analysis demonstrates that minimum years of experience is the most influential predictor of salary, followed by AI role indicator, job duration, and employment type. These variables collectively contribute the most to explaining salary variation across job postings.\n",
    "3. AI-related roles continue to show higher average salaries (**\\$125,283** actual, **\\$124,024** predicted) compared to non-AI roles (**\\$116,887** actual, **\\$117,435** predicted), suggesting that AI specialization has a consistent positive impact on compensation.\n",
    "4. The R² value of 0.356 indicates that the model explains about 36% of the variation in salaries, which reflects moderate to good predictive accuracy."
   ]
  },
  {
   "cell_type": "markdown",
   "id": "db01c419",
   "metadata": {},
   "source": [
    "# Compare 2 Models – Multiple Linear Regression and  Random Forest"
   ]
  },
  {
   "cell_type": "code",
   "execution_count": 14,
   "id": "e3b06576",
   "metadata": {},
   "outputs": [
    {
     "data": {
      "text/html": [
       "<div>\n",
       "<style scoped>\n",
       "    .dataframe tbody tr th:only-of-type {\n",
       "        vertical-align: middle;\n",
       "    }\n",
       "\n",
       "    .dataframe tbody tr th {\n",
       "        vertical-align: top;\n",
       "    }\n",
       "\n",
       "    .dataframe thead th {\n",
       "        text-align: right;\n",
       "    }\n",
       "</style>\n",
       "<table border=\"1\" class=\"dataframe\">\n",
       "  <thead>\n",
       "    <tr style=\"text-align: right;\">\n",
       "      <th></th>\n",
       "      <th>Model</th>\n",
       "      <th>RMSE</th>\n",
       "      <th>R2</th>\n",
       "      <th>MAE</th>\n",
       "      <th>AI_Job_Count</th>\n",
       "      <th>NonAI_Job_Count</th>\n",
       "      <th>AI_Actual_Salary</th>\n",
       "      <th>AI_Pred_Salary</th>\n",
       "      <th>NonAI_Actual_Salary</th>\n",
       "      <th>NonAI_Pred_Salary</th>\n",
       "    </tr>\n",
       "  </thead>\n",
       "  <tbody>\n",
       "    <tr>\n",
       "      <th>0</th>\n",
       "      <td>Multiple Linear Regression</td>\n",
       "      <td>27329.08</td>\n",
       "      <td>0.201</td>\n",
       "      <td>18579.21</td>\n",
       "      <td>14286</td>\n",
       "      <td>14495</td>\n",
       "      <td>125283.94</td>\n",
       "      <td>125002.22</td>\n",
       "      <td>116886.82</td>\n",
       "      <td>116556.10</td>\n",
       "    </tr>\n",
       "    <tr>\n",
       "      <th>1</th>\n",
       "      <td>Random Forest Regression</td>\n",
       "      <td>24538.18</td>\n",
       "      <td>0.356</td>\n",
       "      <td>15138.35</td>\n",
       "      <td>14286</td>\n",
       "      <td>14495</td>\n",
       "      <td>125283.94</td>\n",
       "      <td>124024.10</td>\n",
       "      <td>116886.82</td>\n",
       "      <td>117434.54</td>\n",
       "    </tr>\n",
       "  </tbody>\n",
       "</table>\n",
       "</div>"
      ],
      "text/plain": [
       "                        Model      RMSE     R2       MAE  AI_Job_Count  \\\n",
       "0  Multiple Linear Regression  27329.08  0.201  18579.21         14286   \n",
       "1    Random Forest Regression  24538.18  0.356  15138.35         14286   \n",
       "\n",
       "   NonAI_Job_Count  AI_Actual_Salary  AI_Pred_Salary  NonAI_Actual_Salary  \\\n",
       "0            14495         125283.94       125002.22            116886.82   \n",
       "1            14495         125283.94       124024.10            116886.82   \n",
       "\n",
       "   NonAI_Pred_Salary  \n",
       "0          116556.10  \n",
       "1          117434.54  "
      ]
     },
     "execution_count": 14,
     "metadata": {},
     "output_type": "execute_result"
    }
   ],
   "source": [
    "import pandas as pd\n",
    "\n",
    "# --- Multiple Linear Regression results ---\n",
    "multiple_linear_results = {\n",
    "    \"Model\": \"Multiple Linear Regression\",\n",
    "    \"RMSE\": 27329.08,\n",
    "    \"R2\": 0.201,\n",
    "    \"MAE\": 18579.21,\n",
    "    \"AI_Job_Count\": 14286,\n",
    "    \"NonAI_Job_Count\": 14495,\n",
    "    \"AI_Actual_Salary\": 125283.94,\n",
    "    \"AI_Pred_Salary\": 125002.22,\n",
    "    \"NonAI_Actual_Salary\": 116886.82,\n",
    "    \"NonAI_Pred_Salary\": 116556.10\n",
    "}\n",
    "\n",
    "# --- Random Forest results ---\n",
    "rf_results = {\n",
    "    \"Model\": \"Random Forest Regression\",\n",
    "    \"RMSE\": 24538.18,\n",
    "    \"R2\": 0.356,\n",
    "    \"MAE\": 15138.35,\n",
    "    \"AI_Job_Count\": 14286,\n",
    "    \"NonAI_Job_Count\": 14495,\n",
    "    \"AI_Actual_Salary\": 125283.94,\n",
    "    \"AI_Pred_Salary\": 124024.10,\n",
    "    \"NonAI_Actual_Salary\": 116886.82,\n",
    "    \"NonAI_Pred_Salary\": 117434.54\n",
    "}\n",
    "\n",
    "\n",
    "comparison_df = pd.DataFrame([multiple_linear_results, rf_results])\n",
    "comparison_df\n"
   ]
  },
  {
   "cell_type": "markdown",
   "id": "fda27c67",
   "metadata": {},
   "source": [
    "## Comparison Interpretation\n",
    "1. The Random Forest Regression model outperforms the Multiple Linear Regression (MLR) model across all key performance metrics. It achieved a lower RMSE (24,538.18 vs. 27,329.08) and MAE (15,138.35 vs. 18,579.21), along with a higher R² value (0.356 vs. 0.201), indicating stronger predictive accuracy and a better ability to capture non-linear salary relationships.\n",
    "2. Both models correctly reflect that AI-related roles have higher average salaries than non-AI roles.\n",
    "3. Overall, the Random Forest model demonstrates improved performance by reducing prediction errors and explaining more variance in salaries, suggesting it is better suited for capturing  detailed patterns and non-linear relationships in the job postings dataset.\n"
   ]
  }
 ],
 "metadata": {
  "kernelspec": {
   "display_name": ".venv",
   "language": "python",
   "name": "python3"
  },
  "language_info": {
   "codemirror_mode": {
    "name": "ipython",
    "version": 3
   },
   "file_extension": ".py",
   "mimetype": "text/x-python",
   "name": "python",
   "nbconvert_exporter": "python",
   "pygments_lexer": "ipython3",
   "version": "3.12.3"
  }
 },
 "nbformat": 4,
 "nbformat_minor": 5
}
