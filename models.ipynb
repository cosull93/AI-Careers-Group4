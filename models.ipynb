{
 "cells": [
  {
   "cell_type": "markdown",
   "id": "a436d104",
   "metadata": {},
   "source": [
    "# Regression, Classification, and Topic Insights"
   ]
  },
  {
   "cell_type": "markdown",
   "id": "0b34009d",
   "metadata": {},
   "source": [
    "# Load Dataset"
   ]
  },
  {
   "cell_type": "code",
   "execution_count": 25,
   "id": "5de82860",
   "metadata": {},
   "outputs": [
    {
     "name": "stderr",
     "output_type": "stream",
     "text": [
      "                                                                                \r"
     ]
    }
   ],
   "source": [
    "\n",
    "from pyspark.sql import SparkSession\n",
    "import pandas as pd\n",
    "from collections import Counter\n",
    "import seaborn as sns\n",
    "import matplotlib.pyplot as plt\n",
    "\n",
    "\n",
    "\n",
    "spark = SparkSession.builder \\\n",
    "    .appName(\"JobPostingsAnalysis\") \\\n",
    "    .getOrCreate()\n",
    "\n",
    "file_path = \"lightcast_job_postings.csv\"\n",
    "\n",
    "df = spark.read \\\n",
    "    .option(\"header\", \"true\") \\\n",
    "    .option(\"inferSchema\", \"true\") \\\n",
    "    .option(\"multiLine\", \"true\") \\\n",
    "    .option(\"escape\", \"\\\"\") \\\n",
    "    .csv(file_path)\n",
    "\n"
   ]
  },
  {
   "cell_type": "markdown",
   "id": "e31bc460",
   "metadata": {},
   "source": [
    "# Multiple Regression"
   ]
  },
  {
   "cell_type": "code",
   "execution_count": 29,
   "id": "96e78f20",
   "metadata": {},
   "outputs": [
    {
     "name": "stdout",
     "output_type": "stream",
     "text": [
      "+-------------------------------------------+--------+---------+--------------+---------+\n",
      "|TITLE_CLEAN                                |TITLE_AI|SKILLS_AI|SPECIALIZED_AI|COMMON_AI|\n",
      "+-------------------------------------------+--------+---------+--------------+---------+\n",
      "|enterprise analyst ii iii                  |0       |0        |0             |0        |\n",
      "|oracle consultant reports                  |0       |0        |0             |0        |\n",
      "|data analyst                               |0       |0        |0             |0        |\n",
      "|sr lead data mgmt analyst sas product owner|0       |0        |0             |0        |\n",
      "|comisiones de por semana comiensa rapido   |0       |0        |0             |0        |\n",
      "+-------------------------------------------+--------+---------+--------------+---------+\n",
      "only showing top 5 rows\n",
      "\n"
     ]
    }
   ],
   "source": [
    "from pyspark.sql.functions import lower, col, when\n",
    "\n",
    "# Define your AI-related pattern\n",
    "ai_pattern = r'\\b(ai|artificial intelligence|generative ai|conversational ai)\\b'\n",
    "\n",
    "# Create binary indicator columns\n",
    "df = df.withColumn(\n",
    "    \"TITLE_AI\", when(lower(col(\"TITLE_CLEAN\")).rlike(ai_pattern), 1).otherwise(0)\n",
    ").withColumn(\n",
    "    \"SKILLS_AI\", when(lower(col(\"SKILLS_NAME\")).rlike(ai_pattern), 1).otherwise(0)\n",
    ").withColumn(\n",
    "    \"SPECIALIZED_AI\", when(lower(col(\"SPECIALIZED_SKILLS_NAME\")).rlike(ai_pattern), 1).otherwise(0)\n",
    ").withColumn(\n",
    "    \"COMMON_AI\", when(lower(col(\"COMMON_SKILLS_NAME\")).rlike(ai_pattern), 1).otherwise(0)\n",
    ")\n",
    "df.select(\"TITLE_CLEAN\", \"TITLE_AI\", \"SKILLS_AI\", \"SPECIALIZED_AI\", \"COMMON_AI\").show(5,truncate=False)\n"
   ]
  }
 ],
 "metadata": {
  "kernelspec": {
   "display_name": ".venv",
   "language": "python",
   "name": "python3"
  },
  "language_info": {
   "codemirror_mode": {
    "name": "ipython",
    "version": 3
   },
   "file_extension": ".py",
   "mimetype": "text/x-python",
   "name": "python",
   "nbconvert_exporter": "python",
   "pygments_lexer": "ipython3",
   "version": "3.12.3"
  }
 },
 "nbformat": 4,
 "nbformat_minor": 5
}
