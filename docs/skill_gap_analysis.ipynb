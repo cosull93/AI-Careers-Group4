{
  "cells": [
    {
      "cell_type": "markdown",
      "id": "f3edfe2d-77ec-4c06-a59b-3b5ff6402370",
      "metadata": {},
      "source": [
        "# Team Skill Gap Analysis\n",
        "\n",
        "Analyzing Team Member Skill Gaps and Improvement Recommendations\n",
        "\n",
        "Caroline O’Sullivan (Boston University)  \n",
        "Bhargavi Manyala (Boston University)  \n",
        "Taylor Luckenbill (Boston University)"
      ]
    },
    {
      "cell_type": "markdown",
      "id": "aa663761",
      "metadata": {},
      "source": [
        "## Analyzing Team Skill Levels"
      ]
    },
    {
      "cell_type": "code",
      "execution_count": 1,
      "id": "89ed4625",
      "metadata": {},
      "outputs": [
        {
          "data": {
            "text/html": [
              "<div>\n",
              "<style scoped>\n",
              "    .dataframe tbody tr th:only-of-type {\n",
              "        vertical-align: middle;\n",
              "    }\n",
              "\n",
              "    .dataframe tbody tr th {\n",
              "        vertical-align: top;\n",
              "    }\n",
              "\n",
              "    .dataframe thead th {\n",
              "        text-align: right;\n",
              "    }\n",
              "</style>\n",
              "<table border=\"1\" class=\"dataframe\">\n",
              "  <thead>\n",
              "    <tr style=\"text-align: right;\">\n",
              "      <th></th>\n",
              "      <th>Python</th>\n",
              "      <th>SQL</th>\n",
              "      <th>Machine Learning</th>\n",
              "      <th>Cloud Computing</th>\n",
              "    </tr>\n",
              "    <tr>\n",
              "      <th>Name</th>\n",
              "      <th></th>\n",
              "      <th></th>\n",
              "      <th></th>\n",
              "      <th></th>\n",
              "    </tr>\n",
              "  </thead>\n",
              "  <tbody>\n",
              "    <tr>\n",
              "      <th>Caroline</th>\n",
              "      <td>3</td>\n",
              "      <td>3</td>\n",
              "      <td>2</td>\n",
              "      <td>2</td>\n",
              "    </tr>\n",
              "    <tr>\n",
              "      <th>Bhargavi</th>\n",
              "      <td>3</td>\n",
              "      <td>3</td>\n",
              "      <td>3</td>\n",
              "      <td>2</td>\n",
              "    </tr>\n",
              "    <tr>\n",
              "      <th>Taylor</th>\n",
              "      <td>3</td>\n",
              "      <td>3</td>\n",
              "      <td>3</td>\n",
              "      <td>1</td>\n",
              "    </tr>\n",
              "  </tbody>\n",
              "</table>\n",
              "</div>"
            ],
            "text/plain": [
              "          Python  SQL  Machine Learning  Cloud Computing\n",
              "Name                                                    \n",
              "Caroline       3    3                 2                2\n",
              "Bhargavi       3    3                 3                2\n",
              "Taylor         3    3                 3                1"
            ]
          },
          "execution_count": 1,
          "metadata": {},
          "output_type": "execute_result"
        }
      ],
      "source": [
        "import pandas as pd\n",
        "\n",
        "skills_data = {\n",
        "    \"Name\": [\"Caroline\", \"Bhargavi\", \"Taylor\"],\n",
        "    \"Python\": [3, 3, 3],\n",
        "    \"SQL\": [3, 3, 3],\n",
        "    \"Machine Learning\": [2, 3, 3],\n",
        "    \"Cloud Computing\": [2, 2, 1]\n",
        "}\n",
        "\n",
        "df_skills = pd.DataFrame(skills_data)\n",
        "df_skills.set_index(\"Name\", inplace=True)\n",
        "df_skills"
      ]
    },
    {
      "cell_type": "code",
      "execution_count": 2,
      "id": "d62eb91b",
      "metadata": {},
      "outputs": [
        {
          "data": {
            "image/png": "[encoded data removed]",
            "text/plain": [
              "<Figure size 800x600 with 2 Axes>"
            ]
          },
          "metadata": {},
          "output_type": "display_data"
        }
      ],
      "source": [
        "#Visualize Skill Levels\n",
        "import seaborn as sns\n",
        "import matplotlib.pyplot as plt\n",
        "\n",
        "plt.figure(figsize=(8, 6))\n",
        "sns.heatmap(df_skills, annot=True, cmap=\"coolwarm\", linewidths=0.5)\n",
        "plt.title(\"Team Skill Levels Heatmap\")\n",
        "plt.savefig(\"team_skills_heatmap.png\")\n",
        "plt.show()"
      ]
    },
    {
      "cell_type": "markdown",
      "id": "cc71d5a6",
      "metadata": {},
      "source": [
        " # Compare team skills to Industry Requirements"
      ]
    },
    {
      "cell_type": "code",
      "execution_count": null,
      "id": "5b0662a8",
      "metadata": {},
      "outputs": [
        {
          "name": "stderr",
          "output_type": "stream",
          "text": [
            "[Stage 56:>                                                         (0 + 1) / 1]\r"
          ]
        },
        {
          "name": "stdout",
          "output_type": "stream",
          "text": [
            "+-----------------------------------------------------------------------------------------------------------+\n",
            "|NAICS_2022_6_NAME                                                                                          |\n",
            "+-----------------------------------------------------------------------------------------------------------+\n",
            "|Small Arms, Ordnance, and Ordnance Accessories Manufacturing                                               |\n",
            "|Janitorial Services                                                                                        |\n",
            "|Office Machinery and Equipment Rental and Leasing                                                          |\n",
            "|Other Metal Valve and Pipe Fitting Manufacturing                                                           |\n",
            "|Other Nonmetallic Mineral Mining and Quarrying                                                             |\n",
            "|All Other Legal Services                                                                                   |\n",
            "|Soap and Other Detergent Manufacturing                                                                     |\n",
            "|Aluminum Sheet, Plate, and Foil Manufacturing                                                              |\n",
            "|Funeral Homes and Funeral Services                                                                         |\n",
            "|All Other Professional, Scientific, and Technical Services                                                 |\n",
            "|All Other Traveler Accommodation                                                                           |\n",
            "|Electrical Contractors and Other Wiring Installation Contractors                                           |\n",
            "|Administration of Human Resource Programs (except Education, Public Health, and Veterans' Affairs Programs)|\n",
            "|Barber Shops                                                                                               |\n",
            "|Chicken Egg Production                                                                                     |\n",
            "|Nursery and Tree Production                                                                                |\n",
            "|Child and Youth Services                                                                                   |\n",
            "|Instrument Manufacturing for Measuring and Testing Electricity and Electrical Signals                      |\n",
            "|Racetracks                                                                                                 |\n",
            "|Brick, Stone, and Related Construction Material Merchant Wholesalers                                       |\n",
            "+-----------------------------------------------------------------------------------------------------------+\n",
            "only showing top 20 rows\n",
            "\n"
          ]
        },
        {
          "name": "stderr",
          "output_type": "stream",
          "text": [
            "                                                                                \r"
          ]
        }
      ],
      "source": [
        "file_path = \"../lightcast_job_postings.csv\"\n",
        "\n",
        "df = spark.read \\\n",
        "    .option(\"header\", \"true\") \\\n",
        "    .option(\"inferSchema\", \"true\") \\\n",
        "    .option(\"multiLine\", \"true\") \\\n",
        "    .option(\"escape\", \"\\\"\") \\\n",
        "    .csv(file_path)\n",
        "\n",
        "df.select(\"NAICS_2022_6_NAME\").show( truncate=False)\n",
        "\n",
        "\n",
        "\n",
        "\n",
        "\n",
        "\n",
        "\n"
      ]
    },
    {
      "cell_type": "markdown",
      "id": "3f317719",
      "metadata": {},
      "source": [
        "## Which Skills Should Each Team Member Prioritize Learning?\n",
        "\n",
        "Based on the analysis above, all three team members should prioritize Cloud Computing in order to improve upon their beginner levels.  There are several ways that each team member can achieve this.  The most accessible option is enrolling in online courses.  For Cloud Computing, both Coursera and Codeacademy offer foundational courses on this topic, ranging from AWS specifically to platform agnostic overviews.  To improve upon Machine Learning skills, team members can leverage online courses hosted on Udemy or Coursera.  Both of these topics are taught through more formal avenues like certificate programs through universities, such as Stanford's Machine Learning Course.\n",
        "\n",
        "All members are rated as average in Python and SQL, but there is always room for improvement. This area is an opportunity for collaboration, as members can bring different skills to the table and help troubleshoot each other's code.  To formally improve upon skills, they can utilize online courses on Coursera, Codeacademy, or Data Camp. In many cities, there are in person class options as well.  For example, General Assembly offers a variety of coding classes locally in NYC.  Each team member should choose the most convenient method to continue learning and improve upon their skillset in order to be competitive in the job market."
      ]
    }
  ],
  "metadata": {
    "kernelspec": {
      "display_name": ".venv",
      "language": "python",
      "name": "python3"
    },
    "language_info": {
      "codemirror_mode": {
        "name": "ipython",
        "version": 3
      },
      "file_extension": ".py",
      "mimetype": "text/x-python",
      "name": "python",
      "nbconvert_exporter": "python",
      "pygments_lexer": "ipython3",
      "version": "3.12.3"
    }
  },
  "nbformat": 4,
  "nbformat_minor": 5
}
