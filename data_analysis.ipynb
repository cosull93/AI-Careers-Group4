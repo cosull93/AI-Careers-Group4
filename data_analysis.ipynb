{
  "cells": [
    {
      "cell_type": "markdown",
      "metadata": {},
      "source": [
        "---\n",
        "title: \"Data Analysis\"\n",
        "subtitle: \"Comprehensive Data Cleaning & Exploratory Analysis of Job Market Trends\"\n",
        "author:\n",
        "  - name: Caroline O'Sullivan\n",
        "    affiliations:\n",
        "      - id: bu\n",
        "        name: Boston University\n",
        "        city: Boston\n",
        "        state: MA\n",
        "  - name: Bhargavi Manyala\n",
        "    affiliations:\n",
        "      - ref: bu\n",
        "  - name: Taylor Luckenbill\n",
        "    affiliations:\n",
        "      - ref: bu      \n",
        "bibliography: bibliography.bib\n",
        "csl: csl/econometrica.csl\n",
        "format: \n",
        "  html:\n",
        "    toc: true\n",
        "    number-sections: true\n",
        "    df-print: paged\n",
        "engine: jupyter\n",
        "jupyter: python3\n",
        "execute:\n",
        "  echo: true      \n",
        "  eval: true      \n",
        "  output: true    \n",
        "  freeze: auto \n",
        "---\n",
        "\n",
        "\n",
        "# Import Data\n",
        "Importing dataset using Pyspark..The code shows the schema and few rows of the dataset.\n"
      ]
    },
    {
      "cell_type": "code",
      "metadata": {},
      "source": [
        "from pyspark.sql import SparkSession\n",
        "\n",
        "# Start a Spark session\n",
        "spark = SparkSession.builder.appName(\"JobPostingsAnalysis\").getOrCreate()\n",
        "\n",
        "    \n",
        "# Load the CSV file into a Spark DataFrame\n",
        "df = spark.read \\\n",
        "    .option(\"header\", \"true\") \\\n",
        "    .option(\"inferSchema\", \"true\") \\\n",
        "    .option(\"multiLine\", \"true\") \\\n",
        "    .option(\"escape\", \"\\\"\") \\\n",
        "    .csv(\"lightcast_job_postings.csv\")\n",
        "\n",
        "df.createOrReplaceTempView(\"jobs\")\n",
        "\n",
        "\n",
        "# Show schema\n",
        "df.printSchema()"
      ],
      "execution_count": null,
      "outputs": []
    },
    {
      "cell_type": "code",
      "metadata": {},
      "source": [
        "#| echo : false\n",
        "df.show(5, truncate=False)\n"
      ],
      "execution_count": null,
      "outputs": []
    },
    {
      "cell_type": "markdown",
      "metadata": {},
      "source": [
        "# Data Cleaning & Preprocessing\n",
        "\n",
        "## Drop Unnecessary Columns\n",
        "\n",
        "### Redundant Columns\n",
        "\n",
        "* Drop: NAICS2, NAICS2_NAME, NAICS3, NAICS3_NAME, NAICS4, NAICS4_NAME, NAICS5, NAICS5_NAME, NAICS6, NAICS6_NAME\n",
        "* Retain: NAICS_2022_2, NAICS_2022_2_NAME through NAICS_2022_6, NAICS_2022_6_NAME\n",
        "* Drop: SOC_2, SOC_2_NAME, SOC_3, SOC_3_NAME, SOC_4, SOC_4_NAME, SOC_5, SOC_5_NAME\n",
        "* Retain: SOC_2021_2, SOC_2021_2_NAME, SOC_2021_3, SOC_2021_3_NAME, SOC_2021_4, SOC_2021_4_NAME, SOC_2021_5, SOC_2021_5_NAME\n",
        "* Drop: CITY, COUNTY, STATE, REMOTE_TYPE, EMPLOYMENT_TYPE (numeric codes when text names exist)\n",
        "* Drop : COUNTY_OUTGOING, COUNTY_NAME_OUTGOING, COUNTY_INCOMING, COUNTY_NAME_INCOMING, MSA_OUTGOING, MSA_NAME_OUTGOING, MSA_INCOMING, MSA_NAME_INCOMING (geographic mobility data)\n",
        "* Retain: LOCATION, CITY_NAME, COUNTY_NAME, STATE_NAME, MSA, MSA_NAME, REMOTE_TYPE_NAME, EMPLOYMENT_TYPE_NAME (text-based fields)\n",
        "* Drop: TITLE_RAW, TITLE, TITLE_NAME, COMPANY_RAW (unprocessed versions)\n",
        "* Retain: TITLE_CLEAN, COMPANY_NAME (cleaned/processed versions)\n",
        "* Drop: EDUCATION_LEVELS, MIN_EDULEVELS, MAX_EDULEVELS (numeric codes)\n",
        "* Retain : EDUCATION_LEVELS_NAME, MIN_EDULEVELS_NAME, MAX_EDULEVELS_NAME (descriptive names)\n",
        "* Drop: LOT_V6_SPECIALIZED_OCCUPATION, LOT_V6_SPECIALIZED_OCCUPATION_NAME, LOT_V6_OCCUPATION, LOT_V6_OCCUPATION_NAME,  LOT_V6_OCCUPATION_GROUP, LOT_V6_OCCUPATION_GROUP_NAME, LOT_V6_CAREER_AREA, LOT_V6_CAREER_AREA_NAME (version-specific)\n",
        "* Retain: LOT_CAREER_AREA, LOT_CAREER_AREA_NAME, LOT_OCCUPATION, LOT_OCCUPATION_NAME, LOT_SPECIALIZED_OCCUPATION, LOT_SPECIALIZED_OCCUPATION_NAME, LOT_OCCUPATION_GROUP, LOT_OCCUPATION_GROUP_NAME (current standard)\n",
        "\n",
        "### Irrelevant Columns\n",
        "\n",
        "* Drop: LAST_UPDATED_DATE, LAST_UPDATED_TIMESTAMP, DUPLICATES, SOURCE_TYPES, SOURCES, ACTIVE_URLS, ACTIVE_SOURCES_INFO (system tracking only)\n",
        "* Retain: Core job posting fields only\n",
        "* Drop: ID, URL, BODY (technical identifier, link, and full text not needed for analysis)\n",
        "* Retain: Main job details (title, company, salary, location)\n",
        "* Drop: CIP6, CIP6_NAME, CIP4, CIP4_NAME, CIP2, CIP2_NAME (education codes)\n",
        "  ONET, ONET_NAME, ONET_2019, ONET_2019_NAME (extra occupation codes)\n",
        "  LIGHTCAST_SECTORS, LIGHTCAST_SECTORS_NAME, (alternative grouping)\n",
        "* Retain: Standard NAICS, SOC, and LOT classifications only\n",
        "* Drop: SKILLS, SKILLS_NAME, SPECIALIZED_SKILLS, SPECIALIZED_SKILLS_NAME, CERTIFICATIONS, CERTIFICATIONS_NAME, COMMON_SKILLS,      COMMON_SKILLS_NAME, SOFTWARE_SKILLS, SOFTWARE_SKILLS_NAME (too detailed text fields)\n",
        "* Retain: Key job attributes only\n",
        "* Drop: MODELED_EXPIRED, MODELED_DURATION (estimates, not real values)\n",
        "* Retain: POSTED, EXPIRED, DURATION (actual posting data)\n",
        "\n",
        "### Why are we removing multiple versions of NAICS/SOC codes?\n",
        "\n",
        "The dataset includes both older and newer versions of industry (NAICS) and occupation (SOC) codes. Keeping multiple versions creates duplication and confusion because the same job could be categorized under two systems. To avoid this, we retain only the most recent standards — NAICS 2022 and SOC 2021 — which reflect the current labor market.\n",
        "\n",
        "### How will this improve analysis?\n",
        "\n",
        "* Improves analysis as follows:\n",
        "* Ensures clarity by eliminating overlapping or outdated categories.\n",
        "* Maintains consistency so all jobs follow the same classification.\n",
        "* Improves efficiency by reducing extra columns that don’t add value.\n",
        "* Increases accuracy since results are based on the most up-to-date classification systems.\n",
        "\n",
        "### Dropping Unnecessary Columns(Python Implementation)"
      ]
    },
    {
      "cell_type": "code",
      "metadata": {},
      "source": [
        "columns_to_drop = [\n",
        "    \"NAICS2\", \"NAICS2_NAME\", \"NAICS3\", \"NAICS3_NAME\",\n",
        "    \"NAICS4\", \"NAICS4_NAME\", \"NAICS5\", \"NAICS5_NAME\",\n",
        "    \"NAICS6\", \"NAICS6_NAME\",\"ID\",\"URL\",\"BODY\",\n",
        "    \"SOC_2\", \"SOC_2_NAME\", \"SOC_3\", \"SOC_3_NAME\",\n",
        "    \"SOC_4\", \"SOC_4_NAME\", \"SOC_5\", \"SOC_5_NAME\",\n",
        "    \"CITY\", \"COUNTY\", \"STATE\", \"REMOTE_TYPE\", \"EMPLOYMENT_TYPE\",\n",
        "    \"COUNTY_OUTGOING\", \"COUNTY_NAME_OUTGOING\",\n",
        "    \"COUNTY_INCOMING\", \"COUNTY_NAME_INCOMING\",\n",
        "    \"MSA_OUTGOING\", \"MSA_NAME_OUTGOING\",\n",
        "    \"MSA_INCOMING\", \"MSA_NAME_INCOMING\",\n",
        "    \"TITLE_RAW\", \"TITLE\", \"TITLE_NAME\", \"COMPANY_RAW\",\n",
        "    \"EDUCATION_LEVELS\", \"MIN_EDULEVELS\", \"MAX_EDULEVELS\",\n",
        "    \"LOT_V6_SPECIALIZED_OCCUPATION\", \"LOT_V6_SPECIALIZED_OCCUPATION_NAME\",\n",
        "    \"LOT_V6_OCCUPATION\", \"LOT_V6_OCCUPATION_NAME\",\n",
        "    \"LOT_V6_OCCUPATION_GROUP\", \"LOT_V6_OCCUPATION_GROUP_NAME\",\n",
        "    \"LOT_V6_CAREER_AREA\", \"LOT_V6_CAREER_AREA_NAME\",\n",
        "    \"LAST_UPDATED_DATE\", \"LAST_UPDATED_TIMESTAMP\",\n",
        "    \"DUPLICATES\", \"SOURCE_TYPES\", \"SOURCES\",\n",
        "    \"ACTIVE_URLS\", \"ACTIVE_SOURCES_INFO\",\n",
        "    \"CIP2\", \"CIP2_NAME\", \"CIP4\", \"CIP4_NAME\", \"CIP6\", \"CIP6_NAME\",\n",
        "    \"ONET\", \"ONET_NAME\", \"ONET_2019\", \"ONET_2019_NAME\",\n",
        "    \"LIGHTCAST_SECTORS\", \"LIGHTCAST_SECTORS_NAME\",\n",
        "    \"SKILLS\", \"SKILLS_NAME\", \"SPECIALIZED_SKILLS\", \"SPECIALIZED_SKILLS_NAME\",\n",
        "    \"CERTIFICATIONS\", \"CERTIFICATIONS_NAME\",\n",
        "    \"COMMON_SKILLS\", \"COMMON_SKILLS_NAME\",\n",
        "    \"SOFTWARE_SKILLS\", \"SOFTWARE_SKILLS_NAME\",\n",
        "    \"MODELED_EXPIRED\", \"MODELED_DURATION\"\n",
        "]\n",
        "\n",
        "df = df.drop(*columns_to_drop)\n",
        "df.show(truncate=False)\n",
        "df.count()\n"
      ],
      "execution_count": null,
      "outputs": []
    },
    {
      "cell_type": "markdown",
      "metadata": {},
      "source": [
        "## Handling Missing Values(Numerical Python Implementation)"
      ]
    },
    {
      "cell_type": "code",
      "metadata": {},
      "source": [
        "import missingno as msno\n",
        "import matplotlib.pyplot as plt\n",
        "\n",
        "numeric_cols = [\n",
        "    \"DURATION\", \"COMPANY\", \"MIN_YEARS_EXPERIENCE\", \"MAX_YEARS_EXPERIENCE\",\n",
        "    \"SALARY\", \"SALARY_TO\", \"SALARY_FROM\", \"MSA\",\n",
        "    \"LOT_CAREER_AREA\", \"LOT_OCCUPATION\", \"LOT_SPECIALIZED_OCCUPATION\",\n",
        "    \"LOT_OCCUPATION_GROUP\", \"NAICS_2022_2\", \"NAICS_2022_3\",\n",
        "    \"NAICS_2022_4\", \"NAICS_2022_5\", \"NAICS_2022_6\"\n",
        "]\n",
        "\n",
        "pandas_num = df.select(numeric_cols).toPandas()\n",
        "\n",
        "msno.heatmap(pandas_num)\n",
        "plt.title(\"Missing Values Heatmap - Numeric\")\n",
        "plt.show()\n",
        "\n",
        "pandas_num[numeric_cols] = pandas_num[numeric_cols].fillna(\n",
        "    pandas_num[numeric_cols].median(numeric_only=True)\n",
        ")\n",
        "pandas_num.head()"
      ],
      "execution_count": null,
      "outputs": []
    },
    {
      "cell_type": "markdown",
      "metadata": {},
      "source": [
        "## Handling Missing Values(Categorical Python Implementation)"
      ]
    },
    {
      "cell_type": "code",
      "metadata": {},
      "source": [
        "import missingno as msno\n",
        "import matplotlib.pyplot as plt\n",
        "\n",
        "categorical_cols = [\n",
        "    \"COMPANY_NAME\", \"EDUCATION_LEVELS_NAME\",\n",
        "    \"MIN_EDULEVELS_NAME\", \"MAX_EDULEVELS_NAME\", \"EMPLOYMENT_TYPE_NAME\",\n",
        "    \"REMOTE_TYPE_NAME\", \"ORIGINAL_PAY_PERIOD\", \"LOCATION\", \"CITY_NAME\",\n",
        "    \"COUNTY_NAME\", \"MSA_NAME\", \"STATE_NAME\", \"TITLE_CLEAN\",\n",
        "    \"SOC_2021_2\", \"SOC_2021_2_NAME\", \"SOC_2021_3\", \"SOC_2021_3_NAME\",\n",
        "    \"SOC_2021_4\", \"SOC_2021_4_NAME\", \"SOC_2021_5\", \"SOC_2021_5_NAME\",\n",
        "    \"LOT_CAREER_AREA_NAME\", \"LOT_OCCUPATION_NAME\",\n",
        "    \"LOT_SPECIALIZED_OCCUPATION_NAME\", \"LOT_OCCUPATION_GROUP_NAME\",\n",
        "    \"NAICS_2022_2_NAME\", \"NAICS_2022_3_NAME\", \"NAICS_2022_4_NAME\",\n",
        "    \"NAICS_2022_5_NAME\", \"NAICS_2022_6_NAME\"\n",
        "]\n",
        "\n",
        "pandas_cat = df.select(categorical_cols).toPandas()\n",
        "\n",
        "msno.heatmap(pandas_cat)\n",
        "plt.title(\"Missing Values Heatmap - Categorical\")\n",
        "plt.show()\n",
        "\n",
        "pandas_cat[categorical_cols] = pandas_cat[categorical_cols].fillna(\"Unknown\")\n",
        "\n",
        "pandas_cat.head()"
      ],
      "execution_count": null,
      "outputs": []
    },
    {
      "cell_type": "markdown",
      "metadata": {},
      "source": [
        "## Handling Missing Values(Date Python Implementation)"
      ]
    },
    {
      "cell_type": "code",
      "metadata": {},
      "source": [
        "import missingno as msno\n",
        "import matplotlib.pyplot as plt\n",
        "import pandas as pd\n",
        "\n",
        "date_cols = [\"POSTED\", \"EXPIRED\"]\n",
        "pandas_date = df.select(date_cols).toPandas()\n",
        "\n",
        "msno.heatmap(pandas_date)\n",
        "plt.title(\"Missing Values Heatmap - Date Columns\")\n",
        "plt.show()\n",
        "\n",
        "for col in date_cols:\n",
        "    pandas_date[col] = pd.to_datetime(pandas_date[col], errors=\"coerce\")\n",
        "    pandas_date[col] = pandas_date[col].fillna(pandas_date[col].mode()[0])\n",
        "\n",
        "pandas_date.head()"
      ],
      "execution_count": null,
      "outputs": []
    },
    {
      "cell_type": "markdown",
      "metadata": {},
      "source": [
        "## Handling Missing Values(Combined Dataframe Python Implementation)"
      ]
    },
    {
      "cell_type": "code",
      "metadata": {},
      "source": [
        "import pandas as pd\n",
        "\n",
        "pandas_handled_missing_values = pd.concat([pandas_num, pandas_cat, pandas_date], axis=1)\n",
        "\n",
        "pandas_handled_missing_values.head()"
      ],
      "execution_count": null,
      "outputs": []
    },
    {
      "cell_type": "markdown",
      "metadata": {},
      "source": [
        "##  Duplicates Removal(Python Implementation)"
      ]
    },
    {
      "cell_type": "code",
      "metadata": {},
      "source": [
        "pandas_cleaned = pandas_handled_missing_values.drop_duplicates(\n",
        "    subset=[\"TITLE_CLEAN\", \"COMPANY_NAME\", \"LOCATION\",\"POSTED\"],\n",
        "    keep=\"first\"\n",
        ")\n",
        "\n",
        "pandas_cleaned\n"
      ],
      "execution_count": null,
      "outputs": []
    }
  ],
  "metadata": {
    "kernelspec": {
      "name": "python3",
      "language": "python",
      "display_name": "Python 3 (ipykernel)",
      "path": "/usr/share/jupyter/kernels/python3"
    }
  },
  "nbformat": 4,
  "nbformat_minor": 4
}